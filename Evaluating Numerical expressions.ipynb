{
 "cells": [
  {
   "cell_type": "markdown",
   "metadata": {
    "collapsed": true
   },
   "source": [
    "# Evaluating Numerical Expressions"
   ]
  },
  {
   "cell_type": "markdown",
   "metadata": {},
   "source": [
    "using stacks to implement an algorithm that can evaluate numerical expressions."
   ]
  },
  {
   "cell_type": "markdown",
   "metadata": {},
   "source": [
    "Calculating the result of a complex numerical expression isn't something that a computer processor can do right out of the box. Behind the scenes, Python uses an algorithm to evaluate such expression."
   ]
  },
  {
   "cell_type": "markdown",
   "metadata": {},
   "source": [
    "The aim of project is to use the stack data structure that to implement an algorithm that can evaluate complex numerical expressions."
   ]
  },
  {
   "cell_type": "markdown",
   "metadata": {},
   "source": [
    "### Importing the LinkedList and Stack"
   ]
  },
  {
   "cell_type": "code",
   "execution_count": 1,
   "metadata": {},
   "outputs": [],
   "source": [
    "from linked_list import LinkedList\n",
    "\n",
    "class Stack(LinkedList):\n",
    "    \n",
    "    def push(self, data):\n",
    "        self.append(data)\n",
    "\n",
    "    def peek(self):\n",
    "        return self.tail.data\n",
    "\n",
    "    def pop(self):\n",
    "        ret = self.tail.data\n",
    "        if self.length == 1:\n",
    "            self.tail = self.head = None\n",
    "        else:\n",
    "            self.tail = self.tail.prev\n",
    "            self.tail.next = None\n",
    "        self.length -= 1\n",
    "        return ret"
   ]
  },
  {
   "cell_type": "markdown",
   "metadata": {},
   "source": [
    "### Infix and Postfix Notation"
   ]
  },
  {
   "cell_type": "markdown",
   "metadata": {},
   "source": [
    "When we write an expression, we use infix notation, meaning that we put the operators between the two operands. For example 1 + 2 is in infix notation because the + operator is between the operands 1 and 2."
   ]
  },
  {
   "cell_type": "markdown",
   "metadata": {},
   "source": [
    "For a computer, it's much easier to evaluate an expression written in postfix notation. In postfix notation, the operands appear before the operator. The infix expression 1 + 2 becomes 1 2 + in postfix notation."
   ]
  },
  {
   "cell_type": "markdown",
   "metadata": {},
   "source": [
    "We can evaluate an expression in postfix notation using a stack. We read the expression from left to right and do the following:\n",
    "\n",
    "If we find a number, we push that number to the top of the stack.\n",
    "\n",
    "If we find an operator, we pop the top two elements of the stack, perform the operation, and then push back the result.\n",
    "\n",
    "After processing the entire expression, there will be a single element on the stack. This value is the result of the operation."
   ]
  },
  {
   "attachments": {
    "image.png": {
     "image/png": "[encoded data removed]"
    }
   },
   "cell_type": "markdown",
   "metadata": {},
   "source": [
    "Let's see how the algorithm evaluates the expression 12 2 4 + / 21 *:\n",
    "![image.png](attachment:image.png)\n"
   ]
  },
  {
   "cell_type": "markdown",
   "metadata": {},
   "source": [
    "### Implementing the tokenize function"
   ]
  },
  {
   "cell_type": "code",
   "execution_count": 2,
   "metadata": {},
   "outputs": [
    {
     "name": "stdout",
     "output_type": "stream",
     "text": [
      "['12', '2', '4', '+', '/', '21', '*']\n"
     ]
    }
   ],
   "source": [
    "def tokenize(expression):\n",
    "    return expression.split()\n",
    "\n",
    "print(tokenize(\"12 2 4 + / 21 *\"))"
   ]
  },
  {
   "cell_type": "markdown",
   "metadata": {},
   "source": [
    "### Functions to process operators in postfix evaluation"
   ]
  },
  {
   "cell_type": "markdown",
   "metadata": {},
   "source": [
    "we learned that we can evaluate an expression in postfix notation using a stack. The idea is that we read the expression from left to right and do the following:\n",
    "\n",
    "If we find a number, then we push that number to the top of the stack.\n",
    "\n",
    "If we find an operator, we pop the top two elements of the stack, perform the operation, and then push back the result."
   ]
  },
  {
   "cell_type": "markdown",
   "metadata": {},
   "source": [
    "There is one important detail we need to consider in the second step. When we find an operator, we pop the top two values on the top of the stack. When we apply the operator to those two elements, we need to make sure we operate those two numbers in the correct order."
   ]
  },
  {
   "cell_type": "markdown",
   "metadata": {},
   "source": [
    "Consider the expression 1 - 2. We need to subtract 2 from 1 and not the other way around. The element at the top of the stack is actually the second operand in the expression, while the element that is second to top is the first operand:"
   ]
  },
  {
   "cell_type": "markdown",
   "metadata": {},
   "source": [
    "The functions are all the same, the only thing that changes is the operator used to calculate the result variable.\n",
    "\n",
    "It is very important to perform the operation between the elements that was second to to and the top elements. If we do it the other way around we'll get the wrong result.\n",
    "\n",
    "For example, in the process_minus() function we do:\n",
    "\n",
    "result = second_to_top - top # Correct\n",
    "and not\n",
    "\n",
    "result = top - second_to_top # Wrong"
   ]
  },
  {
   "cell_type": "code",
   "execution_count": 3,
   "metadata": {},
   "outputs": [],
   "source": [
    "\n",
    "def process_minus(stack):\n",
    "    top = stack.pop()\n",
    "    second_to_top = stack.pop()\n",
    "    result = second_to_top - top\n",
    "    stack.push(result)\n",
    "    \n",
    "def process_plus(stack):\n",
    "    top = stack.pop()\n",
    "    second_to_top = stack.pop()\n",
    "    # Same as process_minus but with + instead of -\n",
    "    result = second_to_top + top\n",
    "    stack.push(result)\n",
    "    \n",
    "def process_times(stack):\n",
    "    top = stack.pop()\n",
    "    second_to_top = stack.pop()\n",
    "    # Same as process_minus but with * instead of -\n",
    "    result = second_to_top * top\n",
    "    stack.push(result)\n",
    "\n",
    "def process_divide(stack):\n",
    "    top = stack.pop()\n",
    "    second_to_top = stack.pop()\n",
    "    # Same as process_minus but with / instead of -\n",
    "    result = second_to_top / top\n",
    "    stack.push(result)\n",
    "    \n",
    "def process_pow(stack):\n",
    "    top = stack.pop()\n",
    "    second_to_top = stack.pop()\n",
    "    # Same as process_minus but with ** instead of -\n",
    "    result = second_to_top ** top\n",
    "    stack.push(result)"
   ]
  },
  {
   "cell_type": "markdown",
   "metadata": {},
   "source": [
    "### Evaluating postfix expressions"
   ]
  },
  {
   "cell_type": "markdown",
   "metadata": {},
   "source": [
    "Here are the steps we need to follow to implement the evaluate_postfix() function.\n",
    "\n",
    "Initialize an empty stack.\n",
    "\n",
    "Tokenize the expression using the tokenize() function.\n",
    "\n",
    "For each token, do:\n",
    "    \n",
    "If the token an operator, call the corresponding function to process it. For example, if we find a + we call the process_plus() function.\n",
    "\n",
    "Otherwise (the token is a number) and we push that number to the top of the stack. Since each token is a string, we'll need to convert it to a float first.\n",
    "\n",
    "Return the value that is left in the stack."
   ]
  },
  {
   "cell_type": "code",
   "execution_count": 4,
   "metadata": {},
   "outputs": [],
   "source": [
    "def evaluate_postfix(expression):\n",
    "    tokens = tokenize(expression)\n",
    "    stack = Stack()\n",
    "    for token in tokens:\n",
    "        if token == \"+\":\n",
    "            process_plus(stack)\n",
    "        elif token == \"-\":\n",
    "            process_minus(stack)\n",
    "        elif token == \"*\":\n",
    "            process_times(stack)\n",
    "        elif token == \"/\":\n",
    "            process_divide(stack)\n",
    "        elif token == \"**\":\n",
    "            process_pow(stack)\n",
    "        else:\n",
    "            # The token is not an operator so it must be a number\n",
    "            stack.push(float(token))\n",
    "    return stack.pop()"
   ]
  },
  {
   "cell_type": "markdown",
   "metadata": {},
   "source": [
    "### Testing the implementation"
   ]
  },
  {
   "cell_type": "markdown",
   "metadata": {},
   "source": [
    "When testing with other expressions we need to add spaces between at two tokens. For example 1 + 3 will work but 1+3 won't."
   ]
  },
  {
   "cell_type": "code",
   "execution_count": 5,
   "metadata": {},
   "outputs": [
    {
     "name": "stdout",
     "output_type": "stream",
     "text": [
      "-2.0\n",
      "8.0\n",
      "0.0\n",
      "2.0\n",
      "11.25\n",
      "45.0\n",
      "42.0\n",
      "4.0\n",
      "2.0\n"
     ]
    }
   ],
   "source": [
    "expressions = [\n",
    "    \"4 6 -\",\n",
    "    \"4 1 2 9 3 / * + 5 - *\",\n",
    "    \"1 2 + 3 -\",\n",
    "    \"1 2 - 3 +\",\n",
    "    \"10 3 5 * 16 4 - / +\",\n",
    "    \"5 3 4 2 - ** *\",\n",
    "    \"12 2 4 + / 21 *\",\n",
    "    \"1 1 + 2 **\",\n",
    "    \"1 1 2 ** +\"\n",
    "]\n",
    "\n",
    "for expression in expressions:\n",
    "    print(evaluate_postfix(expression))"
   ]
  },
  {
   "cell_type": "markdown",
   "metadata": {},
   "source": [
    "### Operator Precedence in Infix Notation"
   ]
  },
  {
   "cell_type": "markdown",
   "metadata": {},
   "source": [
    "We can now evaluate postfix expressions! But to make this project useful, we need to enable our algorithm to evaluate expressions in infix notation. After all, it would be very annoying to have to write expressions in postfix notation to use our algorithm."
   ]
  },
  {
   "cell_type": "markdown",
   "metadata": {},
   "source": [
    "Like before, to simplify tokenizing the expression, we'll assume that the infix expression string contains spaces between any two tokens (even the parentheses)."
   ]
  },
  {
   "cell_type": "markdown",
   "metadata": {},
   "source": [
    "This means that we can tokenize the expression using the tokenize() function we implemented before:"
   ]
  },
  {
   "cell_type": "markdown",
   "metadata": {},
   "source": [
    "To convert an expression from infix to postfix, we'll implement the Shunting-yard algorithm. The data structure to implement this algorithm is (again) a stack."
   ]
  },
  {
   "cell_type": "markdown",
   "metadata": {},
   "source": [
    "We need to do some prep work before we start describing and implementing the algorithm.In an expression in infix notation, the operation precedence rules define the order in which we perform the operations. For example, in the expression 4 + 2 * 3, we first need to perform the multiplication and only then the addition:"
   ]
  },
  {
   "cell_type": "markdown",
   "metadata": {},
   "source": [
    "If operators have the same precedence, they are evaluated in the order they appear. For example, in 1 - 2 + 3, we do - and then +, but in 1 + 2 - 3, we do + and then -."
   ]
  },
  {
   "cell_type": "markdown",
   "metadata": {},
   "source": [
    "In short, the + and - have the same precedence, the * and / have the same precedence and higher precedence than + and -, and the ** has the highest precedence of all."
   ]
  },
  {
   "cell_type": "markdown",
   "metadata": {},
   "source": [
    "In the Shunting-yard algorithm, we'll need to compare the precedence of the operators. We will use numbers to represent the operator precedence. The higher the precedence, the higher the number. "
   ]
  },
  {
   "cell_type": "markdown",
   "metadata": {},
   "source": [
    "### Precedence dictionary"
   ]
  },
  {
   "cell_type": "markdown",
   "metadata": {},
   "source": [
    "The precedence dictionary is used to compare the precedence of two operators."
   ]
  },
  {
   "cell_type": "code",
   "execution_count": 6,
   "metadata": {},
   "outputs": [
    {
     "name": "stdout",
     "output_type": "stream",
     "text": [
      "False\n",
      "True\n",
      "False\n",
      "True\n"
     ]
    }
   ],
   "source": [
    "precedence = {\n",
    "    \"+\": 1,\n",
    "    \"-\": 1,\n",
    "    \"*\": 2,\n",
    "    \"/\": 2,\n",
    "    \"**\": 3\n",
    "}\n",
    "\n",
    "print(precedence[\"/\"] < precedence[\"-\"])\n",
    "print(precedence[\"+\"] < precedence[\"*\"])\n",
    "print(precedence[\"+\"] < precedence[\"-\"])\n",
    "print(precedence[\"/\"] < precedence[\"**\"])"
   ]
  },
  {
   "cell_type": "markdown",
   "metadata": {},
   "source": [
    "### Processing tokens in infix to postfix conversions"
   ]
  },
  {
   "cell_type": "markdown",
   "metadata": {},
   "source": [
    "we'll implement a function infix_to_postfix() that, given a string with an expression in infix notation, outputs a string with that expression written in postfix notation."
   ]
  },
  {
   "cell_type": "markdown",
   "metadata": {},
   "source": [
    "This function will implement the Shunting-yard algorithm. This algorithm is similar to the evaluate_postfix() function we've implemented before. It starts by tokenizing the postfix expression, and then it processes the tokens one by one using a stack. It builds the postfix expression by keeping track of a list named postfix, which will contain the list of tokens in postfix order."
   ]
  },
  {
   "cell_type": "markdown",
   "metadata": {},
   "source": [
    "Here's how processing should go for each token:"
   ]
  },
  {
   "cell_type": "markdown",
   "metadata": {},
   "source": [
    "#### 1. Opening parentheses, (:\n",
    "\n",
    "Push the token into the stack. It will be used later when we find a closing parenthesis."
   ]
  },
  {
   "cell_type": "code",
   "execution_count": 8,
   "metadata": {},
   "outputs": [],
   "source": [
    "def process_opening_parenthesis(stack):\n",
    "    stack.push(\"(\")"
   ]
  },
  {
   "cell_type": "markdown",
   "metadata": {},
   "source": [
    "#### 2. Closing parentheses ):\n",
    "\n",
    "While the top of the stack is not an opening parenthesis, (, pop the top element and append it to the postfix token list.\n",
    "Pop the opening parentheses out of the stack at the end."
   ]
  },
  {
   "cell_type": "code",
   "execution_count": 9,
   "metadata": {},
   "outputs": [],
   "source": [
    "def process_closing_parenthesis(stack, postfix):\n",
    "    # Add tokens until we find the open bracket\n",
    "    while stack.peek() != \"(\":\n",
    "        postfix.append(stack.pop())\n",
    "    # Remove the opening bracket\n",
    "    stack.pop()"
   ]
  },
  {
   "cell_type": "markdown",
   "metadata": {},
   "source": [
    "#### 3. Operator, +, -, *, / or **:\n",
    "    \n",
    "While the top of the stack is also an operator whose precedence is greater than or equal to this operator, pop the top element and append it to the postfix token list.\n",
    "\n",
    "Push the current operator to the top of the stack.\n",
    "\n",
    "The Stack.peek() method will cause an error if the stack is empty. Thus, in the while loop we also need to check that the stack is not empty."
   ]
  },
  {
   "cell_type": "code",
   "execution_count": 10,
   "metadata": {},
   "outputs": [],
   "source": [
    "def process_operator(stack, postfix, operator):\n",
    "    while len(stack) > 0 and stack.peek() in precedence and precedence[stack.peek()] >= precedence[operator]:\n",
    "        postfix.append(stack.pop())\n",
    "    stack.push(operator)"
   ]
  },
  {
   "cell_type": "markdown",
   "metadata": {},
   "source": [
    "#### 4. Operand (any number):\n",
    "\n",
    "Push(append) the token into the the postfix token list."
   ]
  },
  {
   "cell_type": "code",
   "execution_count": 11,
   "metadata": {},
   "outputs": [],
   "source": [
    "def process_number(postfix, number):\n",
    "    postfix.append(number)"
   ]
  },
  {
   "cell_type": "markdown",
   "metadata": {},
   "source": [
    "### The Shunting-yard Algorithm"
   ]
  },
  {
   "cell_type": "markdown",
   "metadata": {},
   "source": [
    "This function will work as follows: \n",
    "\n",
    "1. We start by splitting the expression into tokens using the tokenize() function.\n",
    "\n",
    "2. We initialize an empty stack.\n",
    "\n",
    "3. We initialize and empty postfix token list.\n",
    "\n",
    "4. Iterate over all tokens and for each of them:\n",
    "    \n",
    " -If the token is \"(\" we call the process_opening_parenthesis() function.\n",
    "\n",
    " -If the token is \")\" we call the process_closing_parenthesis() function.\n",
    "\n",
    " -If the token is an operator we call the process_operator() function.\n",
    "\n",
    " -Otherwise, the token is a number and we call the process_number() function.\n",
    "\n",
    "5. After processing all tokens, we use a while loop to pop the remaining stack element into the postfix token list.\n",
    "\n",
    "6. Use the str.join() method to convert the postfix token list into a string."
   ]
  },
  {
   "cell_type": "code",
   "execution_count": 12,
   "metadata": {},
   "outputs": [],
   "source": [
    "def infix_to_postfix(expression):\n",
    "    tokens = tokenize(expression)\n",
    "    stack = Stack()\n",
    "    postfix = []\n",
    "    for token in tokens:\n",
    "        if token == \"(\":\n",
    "            process_opening_parenthesis(stack)\n",
    "        elif token == \")\":\n",
    "            process_closing_parenthesis(stack, postfix)\n",
    "        elif token in precedence:\n",
    "            process_operator(stack, postfix, token)\n",
    "        else:\n",
    "            process_number(postfix, token)\n",
    "    while len(stack) > 0:\n",
    "        postfix.append(stack.pop())\n",
    "    return \" \".join(postfix)"
   ]
  },
  {
   "cell_type": "markdown",
   "metadata": {},
   "source": [
    "### Evaluating Infix Expressions"
   ]
  },
  {
   "cell_type": "markdown",
   "metadata": {},
   "source": [
    "We now have a function that can transform an infix expression into postfix notation and a function that can evaluate an expression in postfix notation. By combining the two, we can write a function named evaluate() that returns the value of an expression in infix notation."
   ]
  },
  {
   "cell_type": "code",
   "execution_count": 13,
   "metadata": {},
   "outputs": [],
   "source": [
    "def evaluate(expression):\n",
    "    postfix_expression = infix_to_postfix(expression)\n",
    "    return evaluate_postfix(postfix_expression)"
   ]
  },
  {
   "cell_type": "code",
   "execution_count": 14,
   "metadata": {},
   "outputs": [
    {
     "name": "stdout",
     "output_type": "stream",
     "text": [
      "2.0\n",
      "0.0\n",
      "8.0\n",
      "11.25\n",
      "256.0\n",
      "65536.0\n",
      "0.5\n",
      "9.0\n",
      "1.0\n"
     ]
    }
   ],
   "source": [
    "expressions = [\n",
    "    \"1 + 1\",\n",
    "    \"1 * ( 2 - ( 1 + 1 ) )\",\n",
    "    \"4 * ( 1 + 2 * ( 9 / 3 ) - 5 )\",\n",
    "    \"10 + 3 * 5 / ( 16 - 4 * 1 )\",\n",
    "    \"2 * 2 * 2 * 2 * 2 * 2 * 2 * 2\",\n",
    "    \"2 ** 2 ** 2 ** 2 ** 2\",\n",
    "    \"( 1 - 2 ) / ( 3 - 5 )\",\n",
    "    \"9 / 8 * 8\",\n",
    "    \"64 / ( 8 * 8 )\",\n",
    "]\n",
    "\n",
    "for expression in expressions:\n",
    "    print(evaluate(expression))"
   ]
  }
 ],
 "metadata": {
  "kernelspec": {
   "display_name": "Python 3",
   "language": "python",
   "name": "python3"
  },
  "language_info": {
   "codemirror_mode": {
    "name": "ipython",
    "version": 3
   },
   "file_extension": ".py",
   "mimetype": "text/x-python",
   "name": "python",
   "nbconvert_exporter": "python",
   "pygments_lexer": "ipython3",
   "version": "3.8.2"
  }
 },
 "nbformat": 4,
 "nbformat_minor": 1
}
